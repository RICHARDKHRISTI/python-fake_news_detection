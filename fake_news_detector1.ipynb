{
  "nbformat": 4,
  "nbformat_minor": 0,
  "metadata": {
    "colab": {
      "provenance": []
    },
    "kernelspec": {
      "name": "python3",
      "display_name": "Python 3"
    },
    "language_info": {
      "name": "python"
    }
  },
  "cells": [
    {
      "cell_type": "code",
      "execution_count": 2,
      "metadata": {
        "colab": {
          "base_uri": "https://localhost:8080/"
        },
        "id": "vivXw2KrB-CK",
        "outputId": "6b2c0dc3-007d-4669-cb06-c4cdfdd58c14"
      },
      "outputs": [
        {
          "output_type": "stream",
          "name": "stdout",
          "text": [
            "✅ Accuracy: 0.8074191002367798\n",
            "Prediction 1: REAL\n",
            "Prediction 2: FAKE\n"
          ]
        }
      ],
      "source": [
        "import pandas as pd\n",
        "import numpy as np\n",
        "from sklearn.feature_extraction.text import CountVectorizer\n",
        "from sklearn.model_selection import train_test_split\n",
        "from sklearn.naive_bayes import MultinomialNB\n",
        "\n",
        "# Load dataset\n",
        "data = pd.read_csv(\"news.csv\")\n",
        "\n",
        "# Features and labels\n",
        "x = np.array(data[\"title\"])\n",
        "y = np.array(data[\"label\"])\n",
        "\n",
        "# Convert text to feature vectors\n",
        "cv = CountVectorizer()\n",
        "x = cv.fit_transform(x)\n",
        "\n",
        "# Train-test split\n",
        "xtrain, xtest, ytrain, ytest = train_test_split(x, y, test_size=0.2, random_state=42)\n",
        "\n",
        "# Train model\n",
        "model = MultinomialNB()\n",
        "model.fit(xtrain, ytrain)\n",
        "\n",
        "# Model accuracy\n",
        "print(\"✅ Accuracy:\", model.score(xtest, ytest))\n",
        "\n",
        "# --- Test 1: Real news\n",
        "headline1 = \"CA Exams 2021: Supreme Court asks ICAI to extend opt-out option for July exams\"\n",
        "data1 = cv.transform([headline1]).toarray()\n",
        "print(\"Prediction 1:\", model.predict(data1)[0])  # Should print REAL\n",
        "\n",
        "# --- Test 2: Fake news\n",
        "headline2 = \"Cow dung can cure Corona Virus\"\n",
        "data2 = cv.transform([headline2]).toarray()\n",
        "print(\"Prediction 2:\", model.predict(data2)[0])  # Should print FAKE\n"
      ]
    }
  ]
}